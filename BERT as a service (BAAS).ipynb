{
  "cells": [
    {
      "cell_type": "markdown",
      "metadata": {
        "id": "view-in-github",
        "colab_type": "text"
      },
      "source": [
        "<a href=\"https://colab.research.google.com/github/pandeyanuradha/Structured-sentiment-analysis-using-Dependency-Graphs/blob/main/BERT%20as%20a%20service%20(BAAS).ipynb\" target=\"_parent\"><img src=\"https://colab.research.google.com/assets/colab-badge.svg\" alt=\"Open In Colab\"/></a>"
      ]
    },
    {
      "cell_type": "markdown",
      "metadata": {
        "id": "OYnJH_GWwvQ8"
      },
      "source": [
        "Links \n",
        "- https://medium.com/@aayanthi/bert-as-service-with-google-colab-e235472e108d\n",
        "- https://github.com/Sougotadayglo/Bert-serving-client\n",
        "- https://towardsdatascience.com/nlp-extract-contextualized-word-embeddings-from-bert-keras-tf-67ef29f60a7b\n"
      ]
    },
    {
      "cell_type": "code",
      "execution_count": null,
      "metadata": {
        "colab": {
          "base_uri": "https://localhost:8080/"
        },
        "id": "Pf24j3YDwj6T",
        "outputId": "32e137f3-0d0f-4c61-9900-e05cdca04dd3"
      },
      "outputs": [
        {
          "name": "stdout",
          "output_type": "stream",
          "text": [
            "Mounted at /content/drive\n"
          ]
        }
      ],
      "source": [
        "from google.colab import drive\n",
        "drive.mount('/content/drive')"
      ]
    },
    {
      "cell_type": "code",
      "execution_count": null,
      "metadata": {
        "id": "Ard4S8Wa0Rs2"
      },
      "outputs": [],
      "source": [
        "import numpy as np\n",
        "import pandas as pd\n",
        "import json\n",
        "import ast\n",
        "from sklearn.neural_network import MLPClassifier\n",
        "from sklearn.model_selection import train_test_split\n",
        "from sklearn import preprocessing\n",
        "from keras.layers import Input, Dense\n",
        "from keras.models import Model"
      ]
    },
    {
      "cell_type": "markdown",
      "metadata": {
        "id": "zRFbTBgwxzGj"
      },
      "source": [
        "## TF1\n"
      ]
    },
    {
      "cell_type": "code",
      "execution_count": null,
      "metadata": {
        "colab": {
          "base_uri": "https://localhost:8080/"
        },
        "id": "go2OkzFqGxyl",
        "outputId": "942e5978-34d1-4082-8fbd-849f17de1223"
      },
      "outputs": [
        {
          "name": "stdout",
          "output_type": "stream",
          "text": [
            "TensorFlow is already loaded. Please restart the runtime to change versions.\n"
          ]
        }
      ],
      "source": [
        "%tensorflow_version 1.x"
      ]
    },
    {
      "cell_type": "code",
      "execution_count": null,
      "metadata": {
        "colab": {
          "base_uri": "https://localhost:8080/"
        },
        "id": "h8pn2aGDE75Z",
        "outputId": "63a6e3b6-b119-4dbe-ce7e-534eb65c12a7"
      },
      "outputs": [
        {
          "name": "stdout",
          "output_type": "stream",
          "text": [
            "Collecting bert-serving-server\n",
            "  Downloading bert_serving_server-1.10.0-py3-none-any.whl (61 kB)\n",
            "\u001b[?25l\r\u001b[K     |█████▎                          | 10 kB 25.9 MB/s eta 0:00:01\r\u001b[K     |██████████▋                     | 20 kB 27.0 MB/s eta 0:00:01\r\u001b[K     |████████████████                | 30 kB 24.6 MB/s eta 0:00:01\r\u001b[K     |█████████████████████▎          | 40 kB 19.2 MB/s eta 0:00:01\r\u001b[K     |██████████████████████████▋     | 51 kB 15.4 MB/s eta 0:00:01\r\u001b[K     |███████████████████████████████▉| 61 kB 11.2 MB/s eta 0:00:01\r\u001b[K     |████████████████████████████████| 61 kB 244 kB/s \n",
            "\u001b[?25hRequirement already satisfied: numpy in /usr/local/lib/python3.7/dist-packages (from bert-serving-server) (1.19.5)\n",
            "Requirement already satisfied: six in /usr/local/lib/python3.7/dist-packages (from bert-serving-server) (1.15.0)\n",
            "Requirement already satisfied: pyzmq>=17.1.0 in /usr/local/lib/python3.7/dist-packages (from bert-serving-server) (22.3.0)\n",
            "Requirement already satisfied: termcolor>=1.1 in /usr/local/lib/python3.7/dist-packages (from bert-serving-server) (1.1.0)\n",
            "Collecting GPUtil>=1.3.0\n",
            "  Downloading GPUtil-1.4.0.tar.gz (5.5 kB)\n",
            "Building wheels for collected packages: GPUtil\n",
            "  Building wheel for GPUtil (setup.py) ... \u001b[?25l\u001b[?25hdone\n",
            "  Created wheel for GPUtil: filename=GPUtil-1.4.0-py3-none-any.whl size=7411 sha256=72ba69f49a4fc21f30164b44117efea9f48ed8152b0a3a4b41a395d041be2d5a\n",
            "  Stored in directory: /root/.cache/pip/wheels/6e/f8/83/534c52482d6da64622ddbf72cd93c35d2ef2881b78fd08ff0c\n",
            "Successfully built GPUtil\n",
            "Installing collected packages: GPUtil, bert-serving-server\n",
            "Successfully installed GPUtil-1.4.0 bert-serving-server-1.10.0\n"
          ]
        }
      ],
      "source": [
        "!pip install bert-serving-server"
      ]
    },
    {
      "cell_type": "code",
      "execution_count": null,
      "metadata": {
        "colab": {
          "base_uri": "https://localhost:8080/"
        },
        "id": "lpUmyAsRFcYN",
        "outputId": "0ca0789e-12c2-4146-a6b7-eb5606f77c57"
      },
      "outputs": [
        {
          "name": "stdout",
          "output_type": "stream",
          "text": [
            "--2021-11-19 06:45:29--  https://storage.googleapis.com/bert_models/2018_10_18/uncased_L-12_H-768_A-12.zip\n",
            "Resolving storage.googleapis.com (storage.googleapis.com)... 173.194.76.128, 66.102.1.128, 142.251.5.128, ...\n",
            "Connecting to storage.googleapis.com (storage.googleapis.com)|173.194.76.128|:443... connected.\n",
            "HTTP request sent, awaiting response... 200 OK\n",
            "Length: 407727028 (389M) [application/zip]\n",
            "Saving to: ‘uncased_L-12_H-768_A-12.zip’\n",
            "\n",
            "uncased_L-12_H-768_ 100%[===================>] 388.84M  86.4MB/s    in 4.5s    \n",
            "\n",
            "2021-11-19 06:45:33 (86.4 MB/s) - ‘uncased_L-12_H-768_A-12.zip’ saved [407727028/407727028]\n",
            "\n",
            "Archive:  uncased_L-12_H-768_A-12.zip\n",
            "   creating: uncased_L-12_H-768_A-12/\n",
            "  inflating: uncased_L-12_H-768_A-12/bert_model.ckpt.meta  \n",
            "  inflating: uncased_L-12_H-768_A-12/bert_model.ckpt.data-00000-of-00001  \n",
            "  inflating: uncased_L-12_H-768_A-12/vocab.txt  \n",
            "  inflating: uncased_L-12_H-768_A-12/bert_model.ckpt.index  \n",
            "  inflating: uncased_L-12_H-768_A-12/bert_config.json  \n"
          ]
        }
      ],
      "source": [
        "!wget https://storage.googleapis.com/bert_models/2018_10_18/uncased_L-12_H-768_A-12.zip; unzip uncased_L-12_H-768_A-12.zip"
      ]
    },
    {
      "cell_type": "code",
      "execution_count": null,
      "metadata": {
        "id": "s8X3XOWvFkb7"
      },
      "outputs": [],
      "source": [
        "!nohup bert-serving-start -max_seq_len=128 -model_dir=uncased_L-12_H-768_A-12 > out.file 2>&1 &"
      ]
    },
    {
      "cell_type": "code",
      "execution_count": null,
      "metadata": {
        "colab": {
          "base_uri": "https://localhost:8080/"
        },
        "id": "FSTCSdorFou1",
        "outputId": "4d4f9b3a-53b2-4f7d-f1da-d4bb56751d23"
      },
      "outputs": [
        {
          "name": "stdout",
          "output_type": "stream",
          "text": [
            "Collecting bert-serving-client\n",
            "  Downloading bert_serving_client-1.10.0-py2.py3-none-any.whl (28 kB)\n",
            "Requirement already satisfied: numpy in /usr/local/lib/python3.7/dist-packages (from bert-serving-client) (1.19.5)\n",
            "Requirement already satisfied: pyzmq>=17.1.0 in /usr/local/lib/python3.7/dist-packages (from bert-serving-client) (22.3.0)\n",
            "Installing collected packages: bert-serving-client\n",
            "Successfully installed bert-serving-client-1.10.0\n"
          ]
        }
      ],
      "source": [
        "!pip install bert-serving-client"
      ]
    },
    {
      "cell_type": "code",
      "execution_count": null,
      "metadata": {
        "id": "vE9bIouGGYQh"
      },
      "outputs": [],
      "source": [
        "from bert_serving.client import BertClient\n",
        "bc = BertClient()"
      ]
    },
    {
      "cell_type": "code",
      "execution_count": null,
      "metadata": {
        "colab": {
          "background_save": true
        },
        "id": "dwAq8v-6BDii"
      },
      "outputs": [],
      "source": [
        "sentences_list = [\"Make sure to use Tensorflow 1\", \"Enable GPU support\", \n",
        "                  \"This is a very easy way of getting BERT embeddings.\",\n",
        "                  \"Natural Language Processing is interesting\", \n",
        "                  \"Have a good day.\", \n",
        "                  \"Bye Bye\"]\n",
        "\n",
        "embeddings = bc.encode(sentences_list)\n",
        "embeddings"
      ]
    },
    {
      "cell_type": "markdown",
      "metadata": {
        "id": "NLjUcIg7GNcd"
      },
      "source": [
        "## TF2\n"
      ]
    },
    {
      "cell_type": "code",
      "execution_count": null,
      "metadata": {
        "colab": {
          "background_save": true
        },
        "id": "jsI0MnHEGGI2"
      },
      "outputs": [],
      "source": [
        "%tensorflow_version 2.x"
      ]
    },
    {
      "cell_type": "markdown",
      "metadata": {
        "id": "IWBtAW05Gv2C"
      },
      "source": [
        "Create a virtual environment with TF1.x and install the BERT server there.\n",
        "BERT-client can be intalled in TF2 and requests can be made to the server."
      ]
    },
    {
      "cell_type": "code",
      "execution_count": null,
      "metadata": {
        "colab": {
          "background_save": true
        },
        "id": "g_X5zVgEGih7"
      },
      "outputs": [],
      "source": [
        "!pip3 install virtualenv\n",
        "!virtualenv myenv\n",
        "!source /content/myenv/bin/activate myenv; pip install tensorflow==1.14; pip install bert-serving-server; wget https://storage.googleapis.com/bert_models/2018_10_18/uncased_L-12_H-768_A-12.zip; unzip uncased_L-12_H-768_A-12.zip; nohup bert-serving-start -max_seq_len=128 -model_dir=uncased_L-12_H-768_A-12 > out.file 2>&1 &"
      ]
    },
    {
      "cell_type": "code",
      "execution_count": null,
      "metadata": {
        "colab": {
          "background_save": true
        },
        "id": "um01oXdUGobz"
      },
      "outputs": [],
      "source": [
        "!pip install bert-serving-client"
      ]
    },
    {
      "cell_type": "code",
      "execution_count": null,
      "metadata": {
        "colab": {
          "background_save": true
        },
        "id": "P5At6MC8HMu2"
      },
      "outputs": [],
      "source": [
        "from bert_serving.client import BertClient"
      ]
    },
    {
      "cell_type": "code",
      "execution_count": null,
      "metadata": {
        "id": "d_K5onacXGL5"
      },
      "outputs": [],
      "source": [
        "bc = BertClient()"
      ]
    },
    {
      "cell_type": "code",
      "execution_count": null,
      "metadata": {
        "id": "j5ygCzbgHR-m"
      },
      "outputs": [],
      "source": [
        "data = pd.read_csv(\"/content/drive/MyDrive/Formal projects/Dependency Parsing/BERT/enBERT.csv\")"
      ]
    },
    {
      "cell_type": "code",
      "execution_count": null,
      "metadata": {
        "id": "2jxxV4lz0PKj"
      },
      "outputs": [],
      "source": [
        "data.head()"
      ]
    },
    {
      "cell_type": "code",
      "execution_count": null,
      "metadata": {
        "id": "fppNTB8SIMqU"
      },
      "outputs": [],
      "source": [
        "n = data.shape[0] \n",
        "data['embeddings'] = 0.0\n",
        "data.drop(['Unnamed: 0'], axis = 1, inplace = True)"
      ]
    },
    {
      "cell_type": "code",
      "execution_count": null,
      "metadata": {
        "id": "YszAKJrkJcxF"
      },
      "outputs": [],
      "source": [
        "for i in range(n):\n",
        "  data['Source'][i] = ast.literal_eval(data['Source'][i])[0]\n",
        "  data['Target'][i] = ast.literal_eval(data['Target'][i])[0]\n",
        "  data['Polar_expression'][i] = ast.literal_eval(data['Polar_expression'][i])[0]"
      ]
    },
    {
      "cell_type": "code",
      "execution_count": null,
      "metadata": {
        "id": "U-AS1uFvKFQ6"
      },
      "outputs": [],
      "source": [
        "data.head()"
      ]
    },
    {
      "cell_type": "code",
      "execution_count": null,
      "metadata": {
        "id": "dlb3X3PKGgfg"
      },
      "outputs": [],
      "source": [
        "ss1 = data['Source'].tolist()\n",
        "ss2 = data['Target'].tolist()\n",
        "ss3 = data['Polar_expression'].tolist()"
      ]
    },
    {
      "cell_type": "code",
      "execution_count": null,
      "metadata": {
        "id": "46EQmbq7GS2J"
      },
      "outputs": [],
      "source": [
        "src = pd.DataFrame({'src' : ss1})\n",
        "tar = pd.DataFrame({'tar' : ss2})\n",
        "pe = pd.DataFrame({'pe' : ss3})\n",
        "\n",
        "src['embeddings'] = 0.0\n",
        "tar['embeddings'] = 0.0\n",
        "pe['embeddings'] = 0.0"
      ]
    },
    {
      "cell_type": "code",
      "execution_count": null,
      "metadata": {
        "id": "C093K6EVLrkX"
      },
      "outputs": [],
      "source": [
        "src"
      ]
    },
    {
      "cell_type": "code",
      "execution_count": null,
      "metadata": {
        "id": "MqXSspnGYeUQ"
      },
      "outputs": [],
      "source": [
        "src = src.astype('object')\n",
        "tar = tar.astype('object')\n",
        "pe = pe.astype('object')"
      ]
    },
    {
      "cell_type": "code",
      "execution_count": null,
      "metadata": {
        "id": "l7lDpf9DhJGB"
      },
      "outputs": [],
      "source": [
        "# Source\n",
        "\n",
        "sentences_list = src['src'].to_list()\n",
        "\n",
        "embeddings = bc.encode(sentences_list)\n",
        "embeddings"
      ]
    },
    {
      "cell_type": "code",
      "execution_count": null,
      "metadata": {
        "id": "QK-L_zraiNMr"
      },
      "outputs": [],
      "source": [
        "for i in range(len(embeddings)):\n",
        "  src['embeddings'][i] = list(embeddings[i])"
      ]
    },
    {
      "cell_type": "code",
      "execution_count": null,
      "metadata": {
        "id": "-VAq8bvNL37z"
      },
      "outputs": [],
      "source": [
        "# Target\n",
        "\n",
        "sentences_list = tar['tar'].to_list()\n",
        "\n",
        "embeddings = bc.encode(sentences_list)\n",
        "embeddings"
      ]
    },
    {
      "cell_type": "code",
      "execution_count": null,
      "metadata": {
        "id": "BCpRAJtMjLw5"
      },
      "outputs": [],
      "source": [
        "for i in range(len(embeddings)):\n",
        "  tar['embeddings'][i] = list(embeddings[i])"
      ]
    },
    {
      "cell_type": "code",
      "execution_count": null,
      "metadata": {
        "id": "RMtwmCJvjLuD"
      },
      "outputs": [],
      "source": [
        "# PE\n",
        "\n",
        "sentences_list = pe['pe'].to_list()\n",
        "\n",
        "embeddings = bc.encode(sentences_list)\n",
        "embeddings"
      ]
    },
    {
      "cell_type": "code",
      "execution_count": null,
      "metadata": {
        "id": "lffkedsVjRQv"
      },
      "outputs": [],
      "source": [
        "for i in range(len(embeddings)):\n",
        "  pe['embeddings'][i] = list(embeddings[i])"
      ]
    },
    {
      "cell_type": "code",
      "execution_count": null,
      "metadata": {
        "id": "oUrmdSaQS_Qi"
      },
      "outputs": [],
      "source": [
        "src"
      ]
    },
    {
      "cell_type": "code",
      "execution_count": null,
      "metadata": {
        "id": "VWe6nnKmS_OO"
      },
      "outputs": [],
      "source": [
        "tar"
      ]
    },
    {
      "cell_type": "code",
      "execution_count": null,
      "metadata": {
        "id": "shiMwGuRS_Lv"
      },
      "outputs": [],
      "source": [
        "pe"
      ]
    },
    {
      "cell_type": "markdown",
      "metadata": {
        "id": "DPUfZGltfmu3"
      },
      "source": [
        "## MLP"
      ]
    },
    {
      "cell_type": "code",
      "execution_count": null,
      "metadata": {
        "id": "YEhMrKWEii5C"
      },
      "outputs": [],
      "source": [
        "len(src['embeddings'][0])"
      ]
    },
    {
      "cell_type": "code",
      "execution_count": null,
      "metadata": {
        "id": "rPpFHCqFij-s"
      },
      "outputs": [],
      "source": [
        "len(src['embeddings'][0] + tar['embeddings'][0] + pe['embeddings'][0])"
      ]
    },
    {
      "cell_type": "code",
      "execution_count": null,
      "metadata": {
        "id": "IaKlVtuPiuJq"
      },
      "outputs": [],
      "source": [
        "data.head()"
      ]
    },
    {
      "cell_type": "code",
      "execution_count": null,
      "metadata": {
        "id": "B_iRKFpglxGL"
      },
      "outputs": [],
      "source": [
        "data = data.astype('object')"
      ]
    },
    {
      "cell_type": "code",
      "execution_count": null,
      "metadata": {
        "id": "SZAE2APMktVD"
      },
      "outputs": [],
      "source": [
        "for i in range(data.shape[0]):\n",
        "  data['embeddings'][i] = (src['embeddings'][i] + tar['embeddings'][i] + pe['embeddings'][i])"
      ]
    },
    {
      "cell_type": "code",
      "execution_count": null,
      "metadata": {
        "id": "ZqniEYChk8Ms"
      },
      "outputs": [],
      "source": [
        "data.head()"
      ]
    },
    {
      "cell_type": "code",
      "execution_count": null,
      "metadata": {
        "id": "igAQf5Mgmw1V"
      },
      "outputs": [],
      "source": [
        "X = data['embeddings']\n",
        "y = data['Polarity']"
      ]
    },
    {
      "cell_type": "code",
      "execution_count": null,
      "metadata": {
        "id": "E_qoUksfpspW"
      },
      "outputs": [],
      "source": [
        "label_encoder = preprocessing.LabelEncoder()\n",
        "data['Polarity']= label_encoder.fit_transform(data['Polarity'])"
      ]
    },
    {
      "cell_type": "code",
      "execution_count": null,
      "metadata": {
        "id": "d84EgTEYD3bL"
      },
      "outputs": [],
      "source": [
        "X = np.vstack(X)"
      ]
    },
    {
      "cell_type": "code",
      "execution_count": null,
      "metadata": {
        "id": "Xtr-xwdBn8Ub"
      },
      "outputs": [],
      "source": [
        "X_train, X_test, y_train, y_test = train_test_split(X, y, test_size = 0.20, random_state = 40)"
      ]
    },
    {
      "cell_type": "code",
      "execution_count": null,
      "metadata": {
        "id": "d6yLVrLYrNuV"
      },
      "outputs": [],
      "source": [
        "# X_train = pd.DataFrame(X_train)\n",
        "# X_test = pd.DataFrame(X_test)"
      ]
    },
    {
      "cell_type": "code",
      "execution_count": null,
      "metadata": {
        "id": "pgP5hCo97dDs"
      },
      "outputs": [],
      "source": [
        "num_classes = 1"
      ]
    },
    {
      "cell_type": "code",
      "execution_count": null,
      "metadata": {
        "id": "FLMYpxKqGtIH"
      },
      "outputs": [],
      "source": [
        "y.shape"
      ]
    },
    {
      "cell_type": "code",
      "execution_count": null,
      "metadata": {
        "id": "w6ErLjw17LXI"
      },
      "outputs": [],
      "source": [
        "inp = Input(shape=(2304,)) # you have 2304 features\n",
        "hidden = Dense(100, activation = 'sigmoid')(inp)  # 10 neurons in your hidden layer\n",
        "out = Dense(num_classes, activation = 'softmax')(hidden)  "
      ]
    },
    {
      "cell_type": "code",
      "execution_count": null,
      "metadata": {
        "id": "7HU_FoKV7LUN"
      },
      "outputs": [],
      "source": [
        "model = Model(inputs=[inp], outputs=[out])"
      ]
    },
    {
      "cell_type": "code",
      "execution_count": null,
      "metadata": {
        "id": "u_eYwLqd7LRw"
      },
      "outputs": [],
      "source": [
        "model.compile(loss='categorical_crossentropy', optimizer='adam', metrics=['accuracy'])\n",
        "# https://stackoverflow.com/questions/21046417/python-conversion-of-list-of-arrays-to-2d-array/32787788"
      ]
    },
    {
      "cell_type": "code",
      "execution_count": null,
      "metadata": {
        "id": "YRcROe0hFnw4"
      },
      "outputs": [],
      "source": [
        "y.unique()"
      ]
    },
    {
      "cell_type": "code",
      "execution_count": null,
      "metadata": {
        "id": "Bu94ReblFnUt"
      },
      "outputs": [],
      "source": [
        "history = model.fit(X_train, y_train, validation_data = (X_test,y_test), epochs = 10, batch_size = 512)"
      ]
    },
    {
      "cell_type": "code",
      "execution_count": null,
      "metadata": {
        "id": "DFYBYyzaDQX9"
      },
      "outputs": [],
      "source": [
        "import matplotlib.pyplot as plt\n",
        "plt.plot(history.history['accuracy'])\n",
        "plt.plot(history.history['val_accuracy'])\n",
        "plt.title('Model accuracy')\n",
        "plt.ylabel('Accuracy')\n",
        "plt.xlabel('Epoch')\n",
        "plt.legend(['Train', 'Test'], loc='upper left')\n",
        "plt.show()"
      ]
    },
    {
      "cell_type": "code",
      "execution_count": null,
      "metadata": {
        "id": "SrI49QNnEu6C"
      },
      "outputs": [],
      "source": [
        ""
      ]
    },
    {
      "cell_type": "code",
      "execution_count": null,
      "metadata": {
        "id": "R-dQ6APBoQcR"
      },
      "outputs": [],
      "source": [
        ""
      ]
    },
    {
      "cell_type": "code",
      "execution_count": null,
      "metadata": {
        "id": "yjmkH0hsoQaD"
      },
      "outputs": [],
      "source": [
        ""
      ]
    }
  ],
  "metadata": {
    "accelerator": "GPU",
    "colab": {
      "collapsed_sections": [],
      "name": "BERT-as-a-service (BAAS)",
      "provenance": [],
      "toc_visible": true,
      "include_colab_link": true
    },
    "kernelspec": {
      "display_name": "Python 3",
      "name": "python3"
    },
    "language_info": {
      "name": "python"
    }
  },
  "nbformat": 4,
  "nbformat_minor": 0
}