{
  "nbformat": 4,
  "nbformat_minor": 0,
  "metadata": {
    "accelerator": "GPU",
    "colab": {
      "name": "embeddings and classification",
      "provenance": [],
      "collapsed_sections": [],
      "toc_visible": true,
      "include_colab_link": true
    },
    "kernelspec": {
      "display_name": "Python 3",
      "name": "python3"
    },
    "language_info": {
      "name": "python"
    }
  },
  "cells": [
    {
      "cell_type": "markdown",
      "metadata": {
        "id": "view-in-github",
        "colab_type": "text"
      },
      "source": [
        "<a href=\"https://colab.research.google.com/github/pandeyanuradha/Structured-sentiment-analysis-using-Dependency-Graphs/blob/main/embeddings%20and%20classification.ipynb\" target=\"_parent\"><img src=\"https://colab.research.google.com/assets/colab-badge.svg\" alt=\"Open In Colab\"/></a>"
      ]
    },
    {
      "cell_type": "markdown",
      "metadata": {
        "id": "OYnJH_GWwvQ8"
      },
      "source": [
        "Links \n",
        "- https://medium.com/@aayanthi/bert-as-service-with-google-colab-e235472e108d\n",
        "- https://github.com/Sougotadayglo/Bert-serving-client\n",
        "- https://towardsdatascience.com/nlp-extract-contextualized-word-embeddings-from-bert-keras-tf-67ef29f60a7b\n",
        "- https://www.machinecurve.com/index.php/2019/07/27/how-to-create-a-basic-mlp-classifier-with-the-keras-sequential-api/\n"
      ]
    },
    {
      "cell_type": "code",
      "metadata": {
        "id": "Pf24j3YDwj6T",
        "colab": {
          "base_uri": "https://localhost:8080/"
        },
        "outputId": "60107e8d-437e-4c9a-9a16-3a5cffbbf676"
      },
      "source": [
        "from google.colab import drive\n",
        "drive.mount('/content/drive')"
      ],
      "execution_count": null,
      "outputs": [
        {
          "output_type": "stream",
          "name": "stdout",
          "text": [
            "Drive already mounted at /content/drive; to attempt to forcibly remount, call drive.mount(\"/content/drive\", force_remount=True).\n"
          ]
        }
      ]
    },
    {
      "cell_type": "code",
      "metadata": {
        "id": "3UJO406bdOlI",
        "colab": {
          "base_uri": "https://localhost:8080/"
        },
        "outputId": "4a9a3b48-06f9-4cc0-95ae-66dba6d50ae6"
      },
      "source": [
        "!pip install torch\n",
        "!pip install transformers\n",
        "!pip install sentence_transformers"
      ],
      "execution_count": null,
      "outputs": [
        {
          "output_type": "stream",
          "name": "stdout",
          "text": [
            "Requirement already satisfied: torch in /usr/local/lib/python3.7/dist-packages (1.10.0+cu111)\n",
            "Requirement already satisfied: typing-extensions in /usr/local/lib/python3.7/dist-packages (from torch) (3.10.0.2)\n",
            "Requirement already satisfied: transformers in /usr/local/lib/python3.7/dist-packages (4.12.5)\n",
            "Requirement already satisfied: requests in /usr/local/lib/python3.7/dist-packages (from transformers) (2.23.0)\n",
            "Requirement already satisfied: packaging>=20.0 in /usr/local/lib/python3.7/dist-packages (from transformers) (21.3)\n",
            "Requirement already satisfied: pyyaml>=5.1 in /usr/local/lib/python3.7/dist-packages (from transformers) (6.0)\n",
            "Requirement already satisfied: numpy>=1.17 in /usr/local/lib/python3.7/dist-packages (from transformers) (1.19.5)\n",
            "Requirement already satisfied: sacremoses in /usr/local/lib/python3.7/dist-packages (from transformers) (0.0.46)\n",
            "Requirement already satisfied: filelock in /usr/local/lib/python3.7/dist-packages (from transformers) (3.4.0)\n",
            "Requirement already satisfied: importlib-metadata in /usr/local/lib/python3.7/dist-packages (from transformers) (4.8.2)\n",
            "Requirement already satisfied: tokenizers<0.11,>=0.10.1 in /usr/local/lib/python3.7/dist-packages (from transformers) (0.10.3)\n",
            "Requirement already satisfied: tqdm>=4.27 in /usr/local/lib/python3.7/dist-packages (from transformers) (4.62.3)\n",
            "Requirement already satisfied: regex!=2019.12.17 in /usr/local/lib/python3.7/dist-packages (from transformers) (2019.12.20)\n",
            "Requirement already satisfied: huggingface-hub<1.0,>=0.1.0 in /usr/local/lib/python3.7/dist-packages (from transformers) (0.1.2)\n",
            "Requirement already satisfied: typing-extensions>=3.7.4.3 in /usr/local/lib/python3.7/dist-packages (from huggingface-hub<1.0,>=0.1.0->transformers) (3.10.0.2)\n",
            "Requirement already satisfied: pyparsing!=3.0.5,>=2.0.2 in /usr/local/lib/python3.7/dist-packages (from packaging>=20.0->transformers) (3.0.6)\n",
            "Requirement already satisfied: zipp>=0.5 in /usr/local/lib/python3.7/dist-packages (from importlib-metadata->transformers) (3.6.0)\n",
            "Requirement already satisfied: idna<3,>=2.5 in /usr/local/lib/python3.7/dist-packages (from requests->transformers) (2.10)\n",
            "Requirement already satisfied: urllib3!=1.25.0,!=1.25.1,<1.26,>=1.21.1 in /usr/local/lib/python3.7/dist-packages (from requests->transformers) (1.24.3)\n",
            "Requirement already satisfied: certifi>=2017.4.17 in /usr/local/lib/python3.7/dist-packages (from requests->transformers) (2021.10.8)\n",
            "Requirement already satisfied: chardet<4,>=3.0.2 in /usr/local/lib/python3.7/dist-packages (from requests->transformers) (3.0.4)\n",
            "Requirement already satisfied: click in /usr/local/lib/python3.7/dist-packages (from sacremoses->transformers) (7.1.2)\n",
            "Requirement already satisfied: joblib in /usr/local/lib/python3.7/dist-packages (from sacremoses->transformers) (1.1.0)\n",
            "Requirement already satisfied: six in /usr/local/lib/python3.7/dist-packages (from sacremoses->transformers) (1.15.0)\n",
            "Requirement already satisfied: sentence_transformers in /usr/local/lib/python3.7/dist-packages (2.1.0)\n",
            "Requirement already satisfied: scipy in /usr/local/lib/python3.7/dist-packages (from sentence_transformers) (1.4.1)\n",
            "Requirement already satisfied: nltk in /usr/local/lib/python3.7/dist-packages (from sentence_transformers) (3.2.5)\n",
            "Requirement already satisfied: transformers<5.0.0,>=4.6.0 in /usr/local/lib/python3.7/dist-packages (from sentence_transformers) (4.12.5)\n",
            "Requirement already satisfied: torchvision in /usr/local/lib/python3.7/dist-packages (from sentence_transformers) (0.11.1+cu111)\n",
            "Requirement already satisfied: sentencepiece in /usr/local/lib/python3.7/dist-packages (from sentence_transformers) (0.1.96)\n",
            "Requirement already satisfied: torch>=1.6.0 in /usr/local/lib/python3.7/dist-packages (from sentence_transformers) (1.10.0+cu111)\n",
            "Requirement already satisfied: huggingface-hub in /usr/local/lib/python3.7/dist-packages (from sentence_transformers) (0.1.2)\n",
            "Requirement already satisfied: scikit-learn in /usr/local/lib/python3.7/dist-packages (from sentence_transformers) (1.0.1)\n",
            "Requirement already satisfied: tokenizers>=0.10.3 in /usr/local/lib/python3.7/dist-packages (from sentence_transformers) (0.10.3)\n",
            "Requirement already satisfied: numpy in /usr/local/lib/python3.7/dist-packages (from sentence_transformers) (1.19.5)\n",
            "Requirement already satisfied: tqdm in /usr/local/lib/python3.7/dist-packages (from sentence_transformers) (4.62.3)\n",
            "Requirement already satisfied: typing-extensions in /usr/local/lib/python3.7/dist-packages (from torch>=1.6.0->sentence_transformers) (3.10.0.2)\n",
            "Requirement already satisfied: requests in /usr/local/lib/python3.7/dist-packages (from transformers<5.0.0,>=4.6.0->sentence_transformers) (2.23.0)\n",
            "Requirement already satisfied: pyyaml>=5.1 in /usr/local/lib/python3.7/dist-packages (from transformers<5.0.0,>=4.6.0->sentence_transformers) (6.0)\n",
            "Requirement already satisfied: importlib-metadata in /usr/local/lib/python3.7/dist-packages (from transformers<5.0.0,>=4.6.0->sentence_transformers) (4.8.2)\n",
            "Requirement already satisfied: filelock in /usr/local/lib/python3.7/dist-packages (from transformers<5.0.0,>=4.6.0->sentence_transformers) (3.4.0)\n",
            "Requirement already satisfied: packaging>=20.0 in /usr/local/lib/python3.7/dist-packages (from transformers<5.0.0,>=4.6.0->sentence_transformers) (21.3)\n",
            "Requirement already satisfied: sacremoses in /usr/local/lib/python3.7/dist-packages (from transformers<5.0.0,>=4.6.0->sentence_transformers) (0.0.46)\n",
            "Requirement already satisfied: regex!=2019.12.17 in /usr/local/lib/python3.7/dist-packages (from transformers<5.0.0,>=4.6.0->sentence_transformers) (2019.12.20)\n",
            "Requirement already satisfied: pyparsing!=3.0.5,>=2.0.2 in /usr/local/lib/python3.7/dist-packages (from packaging>=20.0->transformers<5.0.0,>=4.6.0->sentence_transformers) (3.0.6)\n",
            "Requirement already satisfied: zipp>=0.5 in /usr/local/lib/python3.7/dist-packages (from importlib-metadata->transformers<5.0.0,>=4.6.0->sentence_transformers) (3.6.0)\n",
            "Requirement already satisfied: six in /usr/local/lib/python3.7/dist-packages (from nltk->sentence_transformers) (1.15.0)\n",
            "Requirement already satisfied: idna<3,>=2.5 in /usr/local/lib/python3.7/dist-packages (from requests->transformers<5.0.0,>=4.6.0->sentence_transformers) (2.10)\n",
            "Requirement already satisfied: certifi>=2017.4.17 in /usr/local/lib/python3.7/dist-packages (from requests->transformers<5.0.0,>=4.6.0->sentence_transformers) (2021.10.8)\n",
            "Requirement already satisfied: urllib3!=1.25.0,!=1.25.1,<1.26,>=1.21.1 in /usr/local/lib/python3.7/dist-packages (from requests->transformers<5.0.0,>=4.6.0->sentence_transformers) (1.24.3)\n",
            "Requirement already satisfied: chardet<4,>=3.0.2 in /usr/local/lib/python3.7/dist-packages (from requests->transformers<5.0.0,>=4.6.0->sentence_transformers) (3.0.4)\n",
            "Requirement already satisfied: joblib in /usr/local/lib/python3.7/dist-packages (from sacremoses->transformers<5.0.0,>=4.6.0->sentence_transformers) (1.1.0)\n",
            "Requirement already satisfied: click in /usr/local/lib/python3.7/dist-packages (from sacremoses->transformers<5.0.0,>=4.6.0->sentence_transformers) (7.1.2)\n",
            "Requirement already satisfied: threadpoolctl>=2.0.0 in /usr/local/lib/python3.7/dist-packages (from scikit-learn->sentence_transformers) (3.0.0)\n",
            "Requirement already satisfied: pillow!=8.3.0,>=5.3.0 in /usr/local/lib/python3.7/dist-packages (from torchvision->sentence_transformers) (7.1.2)\n"
          ]
        }
      ]
    },
    {
      "cell_type": "code",
      "metadata": {
        "id": "Ard4S8Wa0Rs2"
      },
      "source": [
        "import numpy as np\n",
        "import pandas as pd\n",
        "import json\n",
        "import ast\n",
        "from sklearn.neural_network import MLPClassifier\n",
        "from sklearn.model_selection import train_test_split\n",
        "from sklearn import preprocessing\n",
        "from keras.layers import Input, Dense\n",
        "from keras.models import Model\n",
        "\n",
        "from transformers import BertTokenizer, BertModel\n",
        "import torch\n",
        "from sentence_transformers import SentenceTransformer\n",
        "\n",
        "from keras.models import Sequential\n",
        "from keras.layers import Dense\n",
        "from keras.callbacks import EarlyStopping\n",
        "from tensorflow.keras.utils import to_categorical"
      ],
      "execution_count": null,
      "outputs": []
    },
    {
      "cell_type": "code",
      "metadata": {
        "id": "jsI0MnHEGGI2"
      },
      "source": [
        "%tensorflow_version 2.x"
      ],
      "execution_count": null,
      "outputs": []
    },
    {
      "cell_type": "markdown",
      "metadata": {
        "id": "ec86v-KIIfT5"
      },
      "source": [
        "## Embeddings"
      ]
    },
    {
      "cell_type": "code",
      "metadata": {
        "id": "j5ygCzbgHR-m"
      },
      "source": [
        "data = pd.read_csv(\"enBERT.csv\")"
      ],
      "execution_count": null,
      "outputs": []
    },
    {
      "cell_type": "code",
      "metadata": {
        "id": "fppNTB8SIMqU"
      },
      "source": [
        "n = data.shape[0] \n",
        "data['embeddings'] = 0.0\n",
        "data.drop(['Unnamed: 0'], axis = 1, inplace = True)"
      ],
      "execution_count": null,
      "outputs": []
    },
    {
      "cell_type": "code",
      "metadata": {
        "id": "2jxxV4lz0PKj",
        "colab": {
          "base_uri": "https://localhost:8080/",
          "height": 203
        },
        "outputId": "d86e389a-06c1-4391-f4b9-f6dc545d09d4"
      },
      "source": [
        "data.head()"
      ],
      "execution_count": null,
      "outputs": [
        {
          "output_type": "execute_result",
          "data": {
            "text/html": [
              "<div>\n",
              "<style scoped>\n",
              "    .dataframe tbody tr th:only-of-type {\n",
              "        vertical-align: middle;\n",
              "    }\n",
              "\n",
              "    .dataframe tbody tr th {\n",
              "        vertical-align: top;\n",
              "    }\n",
              "\n",
              "    .dataframe thead th {\n",
              "        text-align: right;\n",
              "    }\n",
              "</style>\n",
              "<table border=\"1\" class=\"dataframe\">\n",
              "  <thead>\n",
              "    <tr style=\"text-align: right;\">\n",
              "      <th></th>\n",
              "      <th>Text</th>\n",
              "      <th>Source</th>\n",
              "      <th>Target</th>\n",
              "      <th>Polar_expression</th>\n",
              "      <th>Polarity</th>\n",
              "      <th>embeddings</th>\n",
              "    </tr>\n",
              "  </thead>\n",
              "  <tbody>\n",
              "    <tr>\n",
              "      <th>0</th>\n",
              "      <td>I ’m definitely going there again whenever I g...</td>\n",
              "      <td>['I']</td>\n",
              "      <td>['there']</td>\n",
              "      <td>['definitely going again']</td>\n",
              "      <td>P</td>\n",
              "      <td>0.0</td>\n",
              "    </tr>\n",
              "    <tr>\n",
              "      <th>1</th>\n",
              "      <td>Have also stayed in other hotels and to me NH ...</td>\n",
              "      <td>['me']</td>\n",
              "      <td>['NH CARLTON']</td>\n",
              "      <td>['definitely the best']</td>\n",
              "      <td>P</td>\n",
              "      <td>0.0</td>\n",
              "    </tr>\n",
              "    <tr>\n",
              "      <th>2</th>\n",
              "      <td>Clean sizeable room with good facilities in th...</td>\n",
              "      <td>['we']</td>\n",
              "      <td>['facilities']</td>\n",
              "      <td>['good']</td>\n",
              "      <td>P</td>\n",
              "      <td>0.0</td>\n",
              "    </tr>\n",
              "    <tr>\n",
              "      <th>3</th>\n",
              "      <td>I know some people complained .</td>\n",
              "      <td>['I']</td>\n",
              "      <td>['some people']</td>\n",
              "      <td>['complained']</td>\n",
              "      <td>N</td>\n",
              "      <td>0.0</td>\n",
              "    </tr>\n",
              "    <tr>\n",
              "      <th>4</th>\n",
              "      <td>Even though the price is decent for Paris , I ...</td>\n",
              "      <td>['I']</td>\n",
              "      <td>['this hotel']</td>\n",
              "      <td>['would not recommend']</td>\n",
              "      <td>N</td>\n",
              "      <td>0.0</td>\n",
              "    </tr>\n",
              "  </tbody>\n",
              "</table>\n",
              "</div>"
            ],
            "text/plain": [
              "                                                Text  ... embeddings\n",
              "0  I ’m definitely going there again whenever I g...  ...        0.0\n",
              "1  Have also stayed in other hotels and to me NH ...  ...        0.0\n",
              "2  Clean sizeable room with good facilities in th...  ...        0.0\n",
              "3                    I know some people complained .  ...        0.0\n",
              "4  Even though the price is decent for Paris , I ...  ...        0.0\n",
              "\n",
              "[5 rows x 6 columns]"
            ]
          },
          "metadata": {},
          "execution_count": 7
        }
      ]
    },
    {
      "cell_type": "code",
      "metadata": {
        "id": "YszAKJrkJcxF",
        "colab": {
          "base_uri": "https://localhost:8080/"
        },
        "outputId": "1186cc4f-7c62-46cd-b05d-ffd1b38615e9"
      },
      "source": [
        "for i in range(n):\n",
        "  data['Source'][i] = ast.literal_eval(data['Source'][i])[0]\n",
        "  data['Target'][i] = ast.literal_eval(data['Target'][i])[0]\n",
        "  data['Polar_expression'][i] = ast.literal_eval(data['Polar_expression'][i])[0]"
      ],
      "execution_count": null,
      "outputs": [
        {
          "output_type": "stream",
          "name": "stderr",
          "text": [
            "/usr/local/lib/python3.7/dist-packages/ipykernel_launcher.py:2: SettingWithCopyWarning: \n",
            "A value is trying to be set on a copy of a slice from a DataFrame\n",
            "\n",
            "See the caveats in the documentation: https://pandas.pydata.org/pandas-docs/stable/user_guide/indexing.html#returning-a-view-versus-a-copy\n",
            "  \n",
            "/usr/local/lib/python3.7/dist-packages/ipykernel_launcher.py:3: SettingWithCopyWarning: \n",
            "A value is trying to be set on a copy of a slice from a DataFrame\n",
            "\n",
            "See the caveats in the documentation: https://pandas.pydata.org/pandas-docs/stable/user_guide/indexing.html#returning-a-view-versus-a-copy\n",
            "  This is separate from the ipykernel package so we can avoid doing imports until\n",
            "/usr/local/lib/python3.7/dist-packages/ipykernel_launcher.py:4: SettingWithCopyWarning: \n",
            "A value is trying to be set on a copy of a slice from a DataFrame\n",
            "\n",
            "See the caveats in the documentation: https://pandas.pydata.org/pandas-docs/stable/user_guide/indexing.html#returning-a-view-versus-a-copy\n",
            "  after removing the cwd from sys.path.\n"
          ]
        }
      ]
    },
    {
      "cell_type": "code",
      "metadata": {
        "id": "U-AS1uFvKFQ6",
        "colab": {
          "base_uri": "https://localhost:8080/",
          "height": 203
        },
        "outputId": "d71aff3a-26b3-42d9-ce22-8aec23c2c363"
      },
      "source": [
        "data.head()"
      ],
      "execution_count": null,
      "outputs": [
        {
          "output_type": "execute_result",
          "data": {
            "text/html": [
              "<div>\n",
              "<style scoped>\n",
              "    .dataframe tbody tr th:only-of-type {\n",
              "        vertical-align: middle;\n",
              "    }\n",
              "\n",
              "    .dataframe tbody tr th {\n",
              "        vertical-align: top;\n",
              "    }\n",
              "\n",
              "    .dataframe thead th {\n",
              "        text-align: right;\n",
              "    }\n",
              "</style>\n",
              "<table border=\"1\" class=\"dataframe\">\n",
              "  <thead>\n",
              "    <tr style=\"text-align: right;\">\n",
              "      <th></th>\n",
              "      <th>Text</th>\n",
              "      <th>Source</th>\n",
              "      <th>Target</th>\n",
              "      <th>Polar_expression</th>\n",
              "      <th>Polarity</th>\n",
              "      <th>embeddings</th>\n",
              "    </tr>\n",
              "  </thead>\n",
              "  <tbody>\n",
              "    <tr>\n",
              "      <th>0</th>\n",
              "      <td>I ’m definitely going there again whenever I g...</td>\n",
              "      <td>I</td>\n",
              "      <td>there</td>\n",
              "      <td>definitely going again</td>\n",
              "      <td>P</td>\n",
              "      <td>0.0</td>\n",
              "    </tr>\n",
              "    <tr>\n",
              "      <th>1</th>\n",
              "      <td>Have also stayed in other hotels and to me NH ...</td>\n",
              "      <td>me</td>\n",
              "      <td>NH CARLTON</td>\n",
              "      <td>definitely the best</td>\n",
              "      <td>P</td>\n",
              "      <td>0.0</td>\n",
              "    </tr>\n",
              "    <tr>\n",
              "      <th>2</th>\n",
              "      <td>Clean sizeable room with good facilities in th...</td>\n",
              "      <td>we</td>\n",
              "      <td>facilities</td>\n",
              "      <td>good</td>\n",
              "      <td>P</td>\n",
              "      <td>0.0</td>\n",
              "    </tr>\n",
              "    <tr>\n",
              "      <th>3</th>\n",
              "      <td>I know some people complained .</td>\n",
              "      <td>I</td>\n",
              "      <td>some people</td>\n",
              "      <td>complained</td>\n",
              "      <td>N</td>\n",
              "      <td>0.0</td>\n",
              "    </tr>\n",
              "    <tr>\n",
              "      <th>4</th>\n",
              "      <td>Even though the price is decent for Paris , I ...</td>\n",
              "      <td>I</td>\n",
              "      <td>this hotel</td>\n",
              "      <td>would not recommend</td>\n",
              "      <td>N</td>\n",
              "      <td>0.0</td>\n",
              "    </tr>\n",
              "  </tbody>\n",
              "</table>\n",
              "</div>"
            ],
            "text/plain": [
              "                                                Text  ... embeddings\n",
              "0  I ’m definitely going there again whenever I g...  ...        0.0\n",
              "1  Have also stayed in other hotels and to me NH ...  ...        0.0\n",
              "2  Clean sizeable room with good facilities in th...  ...        0.0\n",
              "3                    I know some people complained .  ...        0.0\n",
              "4  Even though the price is decent for Paris , I ...  ...        0.0\n",
              "\n",
              "[5 rows x 6 columns]"
            ]
          },
          "metadata": {},
          "execution_count": 9
        }
      ]
    },
    {
      "cell_type": "code",
      "metadata": {
        "id": "dlb3X3PKGgfg"
      },
      "source": [
        "ss1 = data['Source'].tolist()\n",
        "ss2 = data['Target'].tolist()\n",
        "ss3 = data['Polar_expression'].tolist()"
      ],
      "execution_count": null,
      "outputs": []
    },
    {
      "cell_type": "code",
      "metadata": {
        "id": "46EQmbq7GS2J"
      },
      "source": [
        "src = pd.DataFrame({'src' : ss1})\n",
        "tar = pd.DataFrame({'tar' : ss2})\n",
        "pe = pd.DataFrame({'pe' : ss3})\n",
        "\n",
        "src['embeddings'] = 0.0\n",
        "tar['embeddings'] = 0.0\n",
        "pe['embeddings'] = 0.0"
      ],
      "execution_count": null,
      "outputs": []
    },
    {
      "cell_type": "code",
      "metadata": {
        "id": "C093K6EVLrkX",
        "colab": {
          "base_uri": "https://localhost:8080/",
          "height": 417
        },
        "outputId": "cb5b9a49-873d-434b-f2c0-a0ef7fd80638"
      },
      "source": [
        "src"
      ],
      "execution_count": null,
      "outputs": [
        {
          "output_type": "execute_result",
          "data": {
            "text/html": [
              "<div>\n",
              "<style scoped>\n",
              "    .dataframe tbody tr th:only-of-type {\n",
              "        vertical-align: middle;\n",
              "    }\n",
              "\n",
              "    .dataframe tbody tr th {\n",
              "        vertical-align: top;\n",
              "    }\n",
              "\n",
              "    .dataframe thead th {\n",
              "        text-align: right;\n",
              "    }\n",
              "</style>\n",
              "<table border=\"1\" class=\"dataframe\">\n",
              "  <thead>\n",
              "    <tr style=\"text-align: right;\">\n",
              "      <th></th>\n",
              "      <th>src</th>\n",
              "      <th>embeddings</th>\n",
              "    </tr>\n",
              "  </thead>\n",
              "  <tbody>\n",
              "    <tr>\n",
              "      <th>0</th>\n",
              "      <td>I</td>\n",
              "      <td>0.0</td>\n",
              "    </tr>\n",
              "    <tr>\n",
              "      <th>1</th>\n",
              "      <td>me</td>\n",
              "      <td>0.0</td>\n",
              "    </tr>\n",
              "    <tr>\n",
              "      <th>2</th>\n",
              "      <td>we</td>\n",
              "      <td>0.0</td>\n",
              "    </tr>\n",
              "    <tr>\n",
              "      <th>3</th>\n",
              "      <td>I</td>\n",
              "      <td>0.0</td>\n",
              "    </tr>\n",
              "    <tr>\n",
              "      <th>4</th>\n",
              "      <td>I</td>\n",
              "      <td>0.0</td>\n",
              "    </tr>\n",
              "    <tr>\n",
              "      <th>...</th>\n",
              "      <td>...</td>\n",
              "      <td>...</td>\n",
              "    </tr>\n",
              "    <tr>\n",
              "      <th>107</th>\n",
              "      <td>I</td>\n",
              "      <td>0.0</td>\n",
              "    </tr>\n",
              "    <tr>\n",
              "      <th>108</th>\n",
              "      <td>I</td>\n",
              "      <td>0.0</td>\n",
              "    </tr>\n",
              "    <tr>\n",
              "      <th>109</th>\n",
              "      <td>I</td>\n",
              "      <td>0.0</td>\n",
              "    </tr>\n",
              "    <tr>\n",
              "      <th>110</th>\n",
              "      <td>I</td>\n",
              "      <td>0.0</td>\n",
              "    </tr>\n",
              "    <tr>\n",
              "      <th>111</th>\n",
              "      <td>me</td>\n",
              "      <td>0.0</td>\n",
              "    </tr>\n",
              "  </tbody>\n",
              "</table>\n",
              "<p>112 rows × 2 columns</p>\n",
              "</div>"
            ],
            "text/plain": [
              "    src  embeddings\n",
              "0     I         0.0\n",
              "1    me         0.0\n",
              "2    we         0.0\n",
              "3     I         0.0\n",
              "4     I         0.0\n",
              "..   ..         ...\n",
              "107   I         0.0\n",
              "108   I         0.0\n",
              "109   I         0.0\n",
              "110   I         0.0\n",
              "111  me         0.0\n",
              "\n",
              "[112 rows x 2 columns]"
            ]
          },
          "metadata": {},
          "execution_count": 12
        }
      ]
    },
    {
      "cell_type": "code",
      "metadata": {
        "id": "MqXSspnGYeUQ"
      },
      "source": [
        "src = src.astype('object')\n",
        "tar = tar.astype('object')\n",
        "pe = pe.astype('object')"
      ],
      "execution_count": null,
      "outputs": []
    },
    {
      "cell_type": "code",
      "metadata": {
        "id": "6rRcXKV5tG08"
      },
      "source": [
        "sbert_model = SentenceTransformer('bert-base-nli-mean-tokens')"
      ],
      "execution_count": null,
      "outputs": []
    },
    {
      "cell_type": "code",
      "metadata": {
        "id": "l7lDpf9DhJGB"
      },
      "source": [
        "# Source\n",
        "\n",
        "sentences_list = src['src'].to_list()\n",
        "\n",
        "for i in range(len(sentences_list)):\n",
        "  src['embeddings'][i] = sbert_model.encode(sentences_list[i])"
      ],
      "execution_count": null,
      "outputs": []
    },
    {
      "cell_type": "code",
      "metadata": {
        "id": "-VAq8bvNL37z"
      },
      "source": [
        "# Target\n",
        "\n",
        "sentences_list = tar['tar'].to_list()\n",
        "\n",
        "for i in range(len(sentences_list)):\n",
        "  tar['embeddings'][i] = sbert_model.encode(sentences_list[i])"
      ],
      "execution_count": null,
      "outputs": []
    },
    {
      "cell_type": "code",
      "metadata": {
        "id": "RMtwmCJvjLuD"
      },
      "source": [
        "# PE\n",
        "\n",
        "sentences_list = pe['pe'].to_list()\n",
        "\n",
        "for i in range(len(sentences_list)):\n",
        "  pe['embeddings'][i] = sbert_model.encode(sentences_list[i])"
      ],
      "execution_count": null,
      "outputs": []
    },
    {
      "cell_type": "code",
      "metadata": {
        "id": "oUrmdSaQS_Qi",
        "colab": {
          "base_uri": "https://localhost:8080/",
          "height": 417
        },
        "outputId": "6a991a96-9f6b-4e34-cf09-182a2c93898a"
      },
      "source": [
        "src"
      ],
      "execution_count": null,
      "outputs": [
        {
          "output_type": "execute_result",
          "data": {
            "text/html": [
              "<div>\n",
              "<style scoped>\n",
              "    .dataframe tbody tr th:only-of-type {\n",
              "        vertical-align: middle;\n",
              "    }\n",
              "\n",
              "    .dataframe tbody tr th {\n",
              "        vertical-align: top;\n",
              "    }\n",
              "\n",
              "    .dataframe thead th {\n",
              "        text-align: right;\n",
              "    }\n",
              "</style>\n",
              "<table border=\"1\" class=\"dataframe\">\n",
              "  <thead>\n",
              "    <tr style=\"text-align: right;\">\n",
              "      <th></th>\n",
              "      <th>src</th>\n",
              "      <th>embeddings</th>\n",
              "    </tr>\n",
              "  </thead>\n",
              "  <tbody>\n",
              "    <tr>\n",
              "      <th>0</th>\n",
              "      <td>I</td>\n",
              "      <td>[0.042095993, -0.11055863, 2.5161955, 0.199010...</td>\n",
              "    </tr>\n",
              "    <tr>\n",
              "      <th>1</th>\n",
              "      <td>me</td>\n",
              "      <td>[-0.07143029, -0.07826901, 2.3924668, 0.200721...</td>\n",
              "    </tr>\n",
              "    <tr>\n",
              "      <th>2</th>\n",
              "      <td>we</td>\n",
              "      <td>[0.29468173, -0.08528296, 2.5404243, 0.2709473...</td>\n",
              "    </tr>\n",
              "    <tr>\n",
              "      <th>3</th>\n",
              "      <td>I</td>\n",
              "      <td>[0.042095993, -0.11055863, 2.5161955, 0.199010...</td>\n",
              "    </tr>\n",
              "    <tr>\n",
              "      <th>4</th>\n",
              "      <td>I</td>\n",
              "      <td>[0.042095993, -0.11055863, 2.5161955, 0.199010...</td>\n",
              "    </tr>\n",
              "    <tr>\n",
              "      <th>...</th>\n",
              "      <td>...</td>\n",
              "      <td>...</td>\n",
              "    </tr>\n",
              "    <tr>\n",
              "      <th>107</th>\n",
              "      <td>I</td>\n",
              "      <td>[0.042095993, -0.11055863, 2.5161955, 0.199010...</td>\n",
              "    </tr>\n",
              "    <tr>\n",
              "      <th>108</th>\n",
              "      <td>I</td>\n",
              "      <td>[0.042095993, -0.11055863, 2.5161955, 0.199010...</td>\n",
              "    </tr>\n",
              "    <tr>\n",
              "      <th>109</th>\n",
              "      <td>I</td>\n",
              "      <td>[0.042095993, -0.11055863, 2.5161955, 0.199010...</td>\n",
              "    </tr>\n",
              "    <tr>\n",
              "      <th>110</th>\n",
              "      <td>I</td>\n",
              "      <td>[0.042095993, -0.11055863, 2.5161955, 0.199010...</td>\n",
              "    </tr>\n",
              "    <tr>\n",
              "      <th>111</th>\n",
              "      <td>me</td>\n",
              "      <td>[-0.07143029, -0.07826901, 2.3924668, 0.200721...</td>\n",
              "    </tr>\n",
              "  </tbody>\n",
              "</table>\n",
              "<p>112 rows × 2 columns</p>\n",
              "</div>"
            ],
            "text/plain": [
              "    src                                         embeddings\n",
              "0     I  [0.042095993, -0.11055863, 2.5161955, 0.199010...\n",
              "1    me  [-0.07143029, -0.07826901, 2.3924668, 0.200721...\n",
              "2    we  [0.29468173, -0.08528296, 2.5404243, 0.2709473...\n",
              "3     I  [0.042095993, -0.11055863, 2.5161955, 0.199010...\n",
              "4     I  [0.042095993, -0.11055863, 2.5161955, 0.199010...\n",
              "..   ..                                                ...\n",
              "107   I  [0.042095993, -0.11055863, 2.5161955, 0.199010...\n",
              "108   I  [0.042095993, -0.11055863, 2.5161955, 0.199010...\n",
              "109   I  [0.042095993, -0.11055863, 2.5161955, 0.199010...\n",
              "110   I  [0.042095993, -0.11055863, 2.5161955, 0.199010...\n",
              "111  me  [-0.07143029, -0.07826901, 2.3924668, 0.200721...\n",
              "\n",
              "[112 rows x 2 columns]"
            ]
          },
          "metadata": {},
          "execution_count": 19
        }
      ]
    },
    {
      "cell_type": "code",
      "metadata": {
        "id": "VWe6nnKmS_OO",
        "colab": {
          "base_uri": "https://localhost:8080/",
          "height": 417
        },
        "outputId": "c4bdae7b-3596-4ff3-9662-cb18fd798fe7"
      },
      "source": [
        "tar"
      ],
      "execution_count": null,
      "outputs": [
        {
          "output_type": "execute_result",
          "data": {
            "text/html": [
              "<div>\n",
              "<style scoped>\n",
              "    .dataframe tbody tr th:only-of-type {\n",
              "        vertical-align: middle;\n",
              "    }\n",
              "\n",
              "    .dataframe tbody tr th {\n",
              "        vertical-align: top;\n",
              "    }\n",
              "\n",
              "    .dataframe thead th {\n",
              "        text-align: right;\n",
              "    }\n",
              "</style>\n",
              "<table border=\"1\" class=\"dataframe\">\n",
              "  <thead>\n",
              "    <tr style=\"text-align: right;\">\n",
              "      <th></th>\n",
              "      <th>tar</th>\n",
              "      <th>embeddings</th>\n",
              "    </tr>\n",
              "  </thead>\n",
              "  <tbody>\n",
              "    <tr>\n",
              "      <th>0</th>\n",
              "      <td>there</td>\n",
              "      <td>[-0.1628256, -0.5033223, 2.711602, 0.318837, 0...</td>\n",
              "    </tr>\n",
              "    <tr>\n",
              "      <th>1</th>\n",
              "      <td>NH CARLTON</td>\n",
              "      <td>[-0.22411533, 0.38089377, 1.8834321, 0.7529253...</td>\n",
              "    </tr>\n",
              "    <tr>\n",
              "      <th>2</th>\n",
              "      <td>facilities</td>\n",
              "      <td>[0.16831996, -0.66065294, 2.4449732, 0.7648579...</td>\n",
              "    </tr>\n",
              "    <tr>\n",
              "      <th>3</th>\n",
              "      <td>some people</td>\n",
              "      <td>[1.0583004, -0.76588655, 1.8275316, 0.5232608,...</td>\n",
              "    </tr>\n",
              "    <tr>\n",
              "      <th>4</th>\n",
              "      <td>this hotel</td>\n",
              "      <td>[0.2005173, 0.5758789, 1.9732914, 0.2811503, 0...</td>\n",
              "    </tr>\n",
              "    <tr>\n",
              "      <th>...</th>\n",
              "      <td>...</td>\n",
              "      <td>...</td>\n",
              "    </tr>\n",
              "    <tr>\n",
              "      <th>107</th>\n",
              "      <td>this hotel</td>\n",
              "      <td>[0.2005173, 0.5758789, 1.9732914, 0.2811503, 0...</td>\n",
              "    </tr>\n",
              "    <tr>\n",
              "      <th>108</th>\n",
              "      <td>the hostel</td>\n",
              "      <td>[0.27161407, 0.72979796, 1.9679761, 0.24148129...</td>\n",
              "    </tr>\n",
              "    <tr>\n",
              "      <th>109</th>\n",
              "      <td>time</td>\n",
              "      <td>[0.057238743, -0.5590193, 2.6795752, 0.6519622...</td>\n",
              "    </tr>\n",
              "    <tr>\n",
              "      <th>110</th>\n",
              "      <td>somewhere else</td>\n",
              "      <td>[-0.090637214, -1.1629673, 2.066749, 0.4237642...</td>\n",
              "    </tr>\n",
              "    <tr>\n",
              "      <th>111</th>\n",
              "      <td>this experience</td>\n",
              "      <td>[-0.03730401, -0.7561849, 2.5043998, 0.5092395...</td>\n",
              "    </tr>\n",
              "  </tbody>\n",
              "</table>\n",
              "<p>112 rows × 2 columns</p>\n",
              "</div>"
            ],
            "text/plain": [
              "                 tar                                         embeddings\n",
              "0              there  [-0.1628256, -0.5033223, 2.711602, 0.318837, 0...\n",
              "1         NH CARLTON  [-0.22411533, 0.38089377, 1.8834321, 0.7529253...\n",
              "2         facilities  [0.16831996, -0.66065294, 2.4449732, 0.7648579...\n",
              "3        some people  [1.0583004, -0.76588655, 1.8275316, 0.5232608,...\n",
              "4         this hotel  [0.2005173, 0.5758789, 1.9732914, 0.2811503, 0...\n",
              "..               ...                                                ...\n",
              "107       this hotel  [0.2005173, 0.5758789, 1.9732914, 0.2811503, 0...\n",
              "108       the hostel  [0.27161407, 0.72979796, 1.9679761, 0.24148129...\n",
              "109             time  [0.057238743, -0.5590193, 2.6795752, 0.6519622...\n",
              "110   somewhere else  [-0.090637214, -1.1629673, 2.066749, 0.4237642...\n",
              "111  this experience  [-0.03730401, -0.7561849, 2.5043998, 0.5092395...\n",
              "\n",
              "[112 rows x 2 columns]"
            ]
          },
          "metadata": {},
          "execution_count": 20
        }
      ]
    },
    {
      "cell_type": "code",
      "metadata": {
        "id": "shiMwGuRS_Lv",
        "colab": {
          "base_uri": "https://localhost:8080/",
          "height": 417
        },
        "outputId": "e39e6693-be8f-47c5-d1a7-2c17113d7816"
      },
      "source": [
        "pe"
      ],
      "execution_count": null,
      "outputs": [
        {
          "output_type": "execute_result",
          "data": {
            "text/html": [
              "<div>\n",
              "<style scoped>\n",
              "    .dataframe tbody tr th:only-of-type {\n",
              "        vertical-align: middle;\n",
              "    }\n",
              "\n",
              "    .dataframe tbody tr th {\n",
              "        vertical-align: top;\n",
              "    }\n",
              "\n",
              "    .dataframe thead th {\n",
              "        text-align: right;\n",
              "    }\n",
              "</style>\n",
              "<table border=\"1\" class=\"dataframe\">\n",
              "  <thead>\n",
              "    <tr style=\"text-align: right;\">\n",
              "      <th></th>\n",
              "      <th>pe</th>\n",
              "      <th>embeddings</th>\n",
              "    </tr>\n",
              "  </thead>\n",
              "  <tbody>\n",
              "    <tr>\n",
              "      <th>0</th>\n",
              "      <td>definitely going again</td>\n",
              "      <td>[-0.017325666, -0.61608523, 2.9982598, 0.26401...</td>\n",
              "    </tr>\n",
              "    <tr>\n",
              "      <th>1</th>\n",
              "      <td>definitely the best</td>\n",
              "      <td>[-0.48895797, -0.185672, 2.0885615, 0.5091189,...</td>\n",
              "    </tr>\n",
              "    <tr>\n",
              "      <th>2</th>\n",
              "      <td>good</td>\n",
              "      <td>[-0.014264785, -0.33327988, 2.361286, 0.327870...</td>\n",
              "    </tr>\n",
              "    <tr>\n",
              "      <th>3</th>\n",
              "      <td>complained</td>\n",
              "      <td>[0.22673778, -0.0762411, 2.4817457, 0.28549138...</td>\n",
              "    </tr>\n",
              "    <tr>\n",
              "      <th>4</th>\n",
              "      <td>would not recommend</td>\n",
              "      <td>[0.39703166, 0.28836337, 1.9668276, 0.00047108...</td>\n",
              "    </tr>\n",
              "    <tr>\n",
              "      <th>...</th>\n",
              "      <td>...</td>\n",
              "      <td>...</td>\n",
              "    </tr>\n",
              "    <tr>\n",
              "      <th>107</th>\n",
              "      <td>recommend</td>\n",
              "      <td>[-0.44058272, -0.18186165, 2.5948792, 0.415013...</td>\n",
              "    </tr>\n",
              "    <tr>\n",
              "      <th>108</th>\n",
              "      <td>recommend only for a short stay in the city</td>\n",
              "      <td>[0.1842904, 0.24427706, 1.0056305, -0.0601895,...</td>\n",
              "    </tr>\n",
              "    <tr>\n",
              "      <th>109</th>\n",
              "      <td>the most wonderfull</td>\n",
              "      <td>[-0.1793495, -0.36845282, 2.0119567, 0.5332648...</td>\n",
              "    </tr>\n",
              "    <tr>\n",
              "      <th>110</th>\n",
              "      <td>would stay</td>\n",
              "      <td>[0.8931147, -0.2838391, 2.3876812, -0.359743, ...</td>\n",
              "    </tr>\n",
              "    <tr>\n",
              "      <th>111</th>\n",
              "      <td>worse than any hostel before</td>\n",
              "      <td>[-0.14643188, 0.8933361, 0.40116784, 0.0567534...</td>\n",
              "    </tr>\n",
              "  </tbody>\n",
              "</table>\n",
              "<p>112 rows × 2 columns</p>\n",
              "</div>"
            ],
            "text/plain": [
              "                                              pe                                         embeddings\n",
              "0                         definitely going again  [-0.017325666, -0.61608523, 2.9982598, 0.26401...\n",
              "1                            definitely the best  [-0.48895797, -0.185672, 2.0885615, 0.5091189,...\n",
              "2                                           good  [-0.014264785, -0.33327988, 2.361286, 0.327870...\n",
              "3                                     complained  [0.22673778, -0.0762411, 2.4817457, 0.28549138...\n",
              "4                            would not recommend  [0.39703166, 0.28836337, 1.9668276, 0.00047108...\n",
              "..                                           ...                                                ...\n",
              "107                                    recommend  [-0.44058272, -0.18186165, 2.5948792, 0.415013...\n",
              "108  recommend only for a short stay in the city  [0.1842904, 0.24427706, 1.0056305, -0.0601895,...\n",
              "109                          the most wonderfull  [-0.1793495, -0.36845282, 2.0119567, 0.5332648...\n",
              "110                                   would stay  [0.8931147, -0.2838391, 2.3876812, -0.359743, ...\n",
              "111                 worse than any hostel before  [-0.14643188, 0.8933361, 0.40116784, 0.0567534...\n",
              "\n",
              "[112 rows x 2 columns]"
            ]
          },
          "metadata": {},
          "execution_count": 21
        }
      ]
    },
    {
      "cell_type": "markdown",
      "metadata": {
        "id": "DPUfZGltfmu3"
      },
      "source": [
        "## MLP"
      ]
    },
    {
      "cell_type": "code",
      "metadata": {
        "id": "YEhMrKWEii5C",
        "colab": {
          "base_uri": "https://localhost:8080/"
        },
        "outputId": "76c61749-90ee-4d00-9c67-62e4dc07f01d"
      },
      "source": [
        "len(src['embeddings'][0])"
      ],
      "execution_count": null,
      "outputs": [
        {
          "output_type": "execute_result",
          "data": {
            "text/plain": [
              "768"
            ]
          },
          "metadata": {},
          "execution_count": 22
        }
      ]
    },
    {
      "cell_type": "code",
      "metadata": {
        "id": "rPpFHCqFij-s",
        "colab": {
          "base_uri": "https://localhost:8080/"
        },
        "outputId": "88a211c0-073a-404a-b906-15d5394b6276"
      },
      "source": [
        "len(list(src['embeddings'][0]) + list(tar['embeddings'][0]) + list(pe['embeddings'][0]))"
      ],
      "execution_count": null,
      "outputs": [
        {
          "output_type": "execute_result",
          "data": {
            "text/plain": [
              "2304"
            ]
          },
          "metadata": {},
          "execution_count": 23
        }
      ]
    },
    {
      "cell_type": "code",
      "metadata": {
        "id": "IaKlVtuPiuJq",
        "colab": {
          "base_uri": "https://localhost:8080/",
          "height": 203
        },
        "outputId": "d1961245-361e-494c-9157-64dd1266e4ca"
      },
      "source": [
        "data.head()"
      ],
      "execution_count": null,
      "outputs": [
        {
          "output_type": "execute_result",
          "data": {
            "text/html": [
              "<div>\n",
              "<style scoped>\n",
              "    .dataframe tbody tr th:only-of-type {\n",
              "        vertical-align: middle;\n",
              "    }\n",
              "\n",
              "    .dataframe tbody tr th {\n",
              "        vertical-align: top;\n",
              "    }\n",
              "\n",
              "    .dataframe thead th {\n",
              "        text-align: right;\n",
              "    }\n",
              "</style>\n",
              "<table border=\"1\" class=\"dataframe\">\n",
              "  <thead>\n",
              "    <tr style=\"text-align: right;\">\n",
              "      <th></th>\n",
              "      <th>Text</th>\n",
              "      <th>Source</th>\n",
              "      <th>Target</th>\n",
              "      <th>Polar_expression</th>\n",
              "      <th>Polarity</th>\n",
              "      <th>embeddings</th>\n",
              "    </tr>\n",
              "  </thead>\n",
              "  <tbody>\n",
              "    <tr>\n",
              "      <th>0</th>\n",
              "      <td>I ’m definitely going there again whenever I g...</td>\n",
              "      <td>I</td>\n",
              "      <td>there</td>\n",
              "      <td>definitely going again</td>\n",
              "      <td>P</td>\n",
              "      <td>0.0</td>\n",
              "    </tr>\n",
              "    <tr>\n",
              "      <th>1</th>\n",
              "      <td>Have also stayed in other hotels and to me NH ...</td>\n",
              "      <td>me</td>\n",
              "      <td>NH CARLTON</td>\n",
              "      <td>definitely the best</td>\n",
              "      <td>P</td>\n",
              "      <td>0.0</td>\n",
              "    </tr>\n",
              "    <tr>\n",
              "      <th>2</th>\n",
              "      <td>Clean sizeable room with good facilities in th...</td>\n",
              "      <td>we</td>\n",
              "      <td>facilities</td>\n",
              "      <td>good</td>\n",
              "      <td>P</td>\n",
              "      <td>0.0</td>\n",
              "    </tr>\n",
              "    <tr>\n",
              "      <th>3</th>\n",
              "      <td>I know some people complained .</td>\n",
              "      <td>I</td>\n",
              "      <td>some people</td>\n",
              "      <td>complained</td>\n",
              "      <td>N</td>\n",
              "      <td>0.0</td>\n",
              "    </tr>\n",
              "    <tr>\n",
              "      <th>4</th>\n",
              "      <td>Even though the price is decent for Paris , I ...</td>\n",
              "      <td>I</td>\n",
              "      <td>this hotel</td>\n",
              "      <td>would not recommend</td>\n",
              "      <td>N</td>\n",
              "      <td>0.0</td>\n",
              "    </tr>\n",
              "  </tbody>\n",
              "</table>\n",
              "</div>"
            ],
            "text/plain": [
              "                                                Text  ... embeddings\n",
              "0  I ’m definitely going there again whenever I g...  ...        0.0\n",
              "1  Have also stayed in other hotels and to me NH ...  ...        0.0\n",
              "2  Clean sizeable room with good facilities in th...  ...        0.0\n",
              "3                    I know some people complained .  ...        0.0\n",
              "4  Even though the price is decent for Paris , I ...  ...        0.0\n",
              "\n",
              "[5 rows x 6 columns]"
            ]
          },
          "metadata": {},
          "execution_count": 24
        }
      ]
    },
    {
      "cell_type": "code",
      "metadata": {
        "id": "B_iRKFpglxGL"
      },
      "source": [
        "data = data.astype('object')"
      ],
      "execution_count": null,
      "outputs": []
    },
    {
      "cell_type": "code",
      "metadata": {
        "id": "SZAE2APMktVD"
      },
      "source": [
        "for i in range(data.shape[0]):\n",
        "  data['embeddings'][i] = (list(src['embeddings'][i]) + list(tar['embeddings'][i]) + list(pe['embeddings'][i]))"
      ],
      "execution_count": null,
      "outputs": []
    },
    {
      "cell_type": "code",
      "metadata": {
        "id": "ZqniEYChk8Ms",
        "colab": {
          "base_uri": "https://localhost:8080/",
          "height": 287
        },
        "outputId": "a7b657d4-0376-4392-b7fb-dbdd9679de0f"
      },
      "source": [
        "data.head()"
      ],
      "execution_count": null,
      "outputs": [
        {
          "output_type": "execute_result",
          "data": {
            "text/html": [
              "<div>\n",
              "<style scoped>\n",
              "    .dataframe tbody tr th:only-of-type {\n",
              "        vertical-align: middle;\n",
              "    }\n",
              "\n",
              "    .dataframe tbody tr th {\n",
              "        vertical-align: top;\n",
              "    }\n",
              "\n",
              "    .dataframe thead th {\n",
              "        text-align: right;\n",
              "    }\n",
              "</style>\n",
              "<table border=\"1\" class=\"dataframe\">\n",
              "  <thead>\n",
              "    <tr style=\"text-align: right;\">\n",
              "      <th></th>\n",
              "      <th>Text</th>\n",
              "      <th>Source</th>\n",
              "      <th>Target</th>\n",
              "      <th>Polar_expression</th>\n",
              "      <th>Polarity</th>\n",
              "      <th>embeddings</th>\n",
              "    </tr>\n",
              "  </thead>\n",
              "  <tbody>\n",
              "    <tr>\n",
              "      <th>0</th>\n",
              "      <td>I ’m definitely going there again whenever I g...</td>\n",
              "      <td>I</td>\n",
              "      <td>there</td>\n",
              "      <td>definitely going again</td>\n",
              "      <td>P</td>\n",
              "      <td>[0.042095993, -0.11055863, 2.5161955, 0.199010...</td>\n",
              "    </tr>\n",
              "    <tr>\n",
              "      <th>1</th>\n",
              "      <td>Have also stayed in other hotels and to me NH ...</td>\n",
              "      <td>me</td>\n",
              "      <td>NH CARLTON</td>\n",
              "      <td>definitely the best</td>\n",
              "      <td>P</td>\n",
              "      <td>[-0.07143029, -0.07826901, 2.3924668, 0.200721...</td>\n",
              "    </tr>\n",
              "    <tr>\n",
              "      <th>2</th>\n",
              "      <td>Clean sizeable room with good facilities in th...</td>\n",
              "      <td>we</td>\n",
              "      <td>facilities</td>\n",
              "      <td>good</td>\n",
              "      <td>P</td>\n",
              "      <td>[0.29468173, -0.08528296, 2.5404243, 0.2709473...</td>\n",
              "    </tr>\n",
              "    <tr>\n",
              "      <th>3</th>\n",
              "      <td>I know some people complained .</td>\n",
              "      <td>I</td>\n",
              "      <td>some people</td>\n",
              "      <td>complained</td>\n",
              "      <td>N</td>\n",
              "      <td>[0.042095993, -0.11055863, 2.5161955, 0.199010...</td>\n",
              "    </tr>\n",
              "    <tr>\n",
              "      <th>4</th>\n",
              "      <td>Even though the price is decent for Paris , I ...</td>\n",
              "      <td>I</td>\n",
              "      <td>this hotel</td>\n",
              "      <td>would not recommend</td>\n",
              "      <td>N</td>\n",
              "      <td>[0.042095993, -0.11055863, 2.5161955, 0.199010...</td>\n",
              "    </tr>\n",
              "  </tbody>\n",
              "</table>\n",
              "</div>"
            ],
            "text/plain": [
              "                                                Text  ...                                         embeddings\n",
              "0  I ’m definitely going there again whenever I g...  ...  [0.042095993, -0.11055863, 2.5161955, 0.199010...\n",
              "1  Have also stayed in other hotels and to me NH ...  ...  [-0.07143029, -0.07826901, 2.3924668, 0.200721...\n",
              "2  Clean sizeable room with good facilities in th...  ...  [0.29468173, -0.08528296, 2.5404243, 0.2709473...\n",
              "3                    I know some people complained .  ...  [0.042095993, -0.11055863, 2.5161955, 0.199010...\n",
              "4  Even though the price is decent for Paris , I ...  ...  [0.042095993, -0.11055863, 2.5161955, 0.199010...\n",
              "\n",
              "[5 rows x 6 columns]"
            ]
          },
          "metadata": {},
          "execution_count": 27
        }
      ]
    },
    {
      "cell_type": "code",
      "metadata": {
        "id": "igAQf5Mgmw1V"
      },
      "source": [
        "X = data['embeddings']\n",
        "y = data['Polarity']"
      ],
      "execution_count": null,
      "outputs": []
    },
    {
      "cell_type": "code",
      "metadata": {
        "id": "kaXhFmrA7RqZ"
      },
      "source": [
        "from sklearn.preprocessing import LabelEncoder\n",
        "label_encoder = LabelEncoder()\n",
        "\n",
        "y = label_encoder.fit_transform(y)"
      ],
      "execution_count": null,
      "outputs": []
    },
    {
      "cell_type": "code",
      "metadata": {
        "colab": {
          "base_uri": "https://localhost:8080/"
        },
        "id": "384dE0Jp8kOS",
        "outputId": "1396100a-85d9-4ded-dac3-4792675584a4"
      },
      "source": [
        "X"
      ],
      "execution_count": null,
      "outputs": [
        {
          "output_type": "execute_result",
          "data": {
            "text/plain": [
              "0      [0.042095993, -0.11055863, 2.5161955, 0.199010...\n",
              "1      [-0.07143029, -0.07826901, 2.3924668, 0.200721...\n",
              "2      [0.29468173, -0.08528296, 2.5404243, 0.2709473...\n",
              "3      [0.042095993, -0.11055863, 2.5161955, 0.199010...\n",
              "4      [0.042095993, -0.11055863, 2.5161955, 0.199010...\n",
              "                             ...                        \n",
              "107    [0.042095993, -0.11055863, 2.5161955, 0.199010...\n",
              "108    [0.042095993, -0.11055863, 2.5161955, 0.199010...\n",
              "109    [0.042095993, -0.11055863, 2.5161955, 0.199010...\n",
              "110    [0.042095993, -0.11055863, 2.5161955, 0.199010...\n",
              "111    [-0.07143029, -0.07826901, 2.3924668, 0.200721...\n",
              "Name: embeddings, Length: 112, dtype: object"
            ]
          },
          "metadata": {},
          "execution_count": 30
        }
      ]
    },
    {
      "cell_type": "code",
      "metadata": {
        "id": "d84EgTEYD3bL"
      },
      "source": [
        "X = np.vstack(X)"
      ],
      "execution_count": null,
      "outputs": []
    },
    {
      "cell_type": "code",
      "metadata": {
        "colab": {
          "base_uri": "https://localhost:8080/"
        },
        "id": "bMYhKcrzvlK-",
        "outputId": "8f871b46-0f8e-421e-b6be-e5fecde6eb90"
      },
      "source": [
        "y.shape"
      ],
      "execution_count": null,
      "outputs": [
        {
          "output_type": "execute_result",
          "data": {
            "text/plain": [
              "(112,)"
            ]
          },
          "metadata": {},
          "execution_count": 32
        }
      ]
    },
    {
      "cell_type": "code",
      "metadata": {
        "id": "Xtr-xwdBn8Ub"
      },
      "source": [
        "X_train, X_test, y_train, y_test = train_test_split(X, y, test_size = 0.20, random_state = 40)"
      ],
      "execution_count": null,
      "outputs": []
    },
    {
      "cell_type": "code",
      "metadata": {
        "id": "LxxvBt-UDOWZ"
      },
      "source": [
        "y_train = y_train.reshape(89, 1)\n",
        "y_test = y_test.reshape(23, 1)"
      ],
      "execution_count": null,
      "outputs": []
    },
    {
      "cell_type": "code",
      "metadata": {
        "id": "Tc5wsF2WE3X_"
      },
      "source": [
        "y_train = to_categorical(y_train)\n",
        "y_test = to_categorical(y_test)"
      ],
      "execution_count": null,
      "outputs": []
    },
    {
      "cell_type": "code",
      "metadata": {
        "id": "MmEcu93hDzLg"
      },
      "source": [
        "feature_vector_length = 2304                # no. of features\n",
        "num_classes = 2                             # binary classification\n",
        "input_shape = (feature_vector_length, )"
      ],
      "execution_count": null,
      "outputs": []
    },
    {
      "cell_type": "code",
      "metadata": {
        "id": "fU-hYtgwJHKo"
      },
      "source": [
        "es = EarlyStopping(monitor = 'val_loss', min_delta = 0, patience = 5)"
      ],
      "execution_count": null,
      "outputs": []
    },
    {
      "cell_type": "code",
      "metadata": {
        "id": "G8FYstWVDPEl"
      },
      "source": [
        "model = Sequential()\n",
        "model.add(Dense(100, input_shape = input_shape, activation = 'relu'))\n",
        "model.add(Dense(50, activation='relu'))\n",
        "model.add(Dense(num_classes, activation = 'softmax'))"
      ],
      "execution_count": null,
      "outputs": []
    },
    {
      "cell_type": "code",
      "metadata": {
        "colab": {
          "base_uri": "https://localhost:8080/"
        },
        "id": "WgnkXIfpD_X9",
        "outputId": "9cbc8924-19aa-4526-8793-37fa80900045"
      },
      "source": [
        "# Configure the model and start training\n",
        "model.compile(loss = 'categorical_crossentropy', optimizer = 'adam', metrics = ['accuracy'])\n",
        "history = model.fit(X_train, y_train, epochs = 1000, batch_size = 250, verbose = 1, validation_split = 0.2, callbacks=[es])"
      ],
      "execution_count": null,
      "outputs": [
        {
          "output_type": "stream",
          "name": "stdout",
          "text": [
            "Epoch 1/1000\n",
            "1/1 [==============================] - 1s 1s/step - loss: 0.7008 - accuracy: 0.5070 - val_loss: 0.8788 - val_accuracy: 0.6111\n",
            "Epoch 2/1000\n",
            "1/1 [==============================] - 0s 45ms/step - loss: 0.5948 - accuracy: 0.7324 - val_loss: 0.5714 - val_accuracy: 0.6111\n",
            "Epoch 3/1000\n",
            "1/1 [==============================] - 0s 41ms/step - loss: 0.3422 - accuracy: 0.7606 - val_loss: 0.4822 - val_accuracy: 0.7778\n",
            "Epoch 4/1000\n",
            "1/1 [==============================] - 0s 42ms/step - loss: 0.2802 - accuracy: 0.9577 - val_loss: 0.4478 - val_accuracy: 0.7778\n",
            "Epoch 5/1000\n",
            "1/1 [==============================] - 0s 39ms/step - loss: 0.2060 - accuracy: 0.9577 - val_loss: 0.4592 - val_accuracy: 0.7778\n",
            "Epoch 6/1000\n",
            "1/1 [==============================] - 0s 40ms/step - loss: 0.1524 - accuracy: 0.9577 - val_loss: 0.4970 - val_accuracy: 0.7778\n",
            "Epoch 7/1000\n",
            "1/1 [==============================] - 0s 37ms/step - loss: 0.1260 - accuracy: 0.9577 - val_loss: 0.5087 - val_accuracy: 0.7778\n",
            "Epoch 8/1000\n",
            "1/1 [==============================] - 0s 38ms/step - loss: 0.1006 - accuracy: 0.9577 - val_loss: 0.4913 - val_accuracy: 0.7778\n",
            "Epoch 9/1000\n",
            "1/1 [==============================] - 0s 40ms/step - loss: 0.0773 - accuracy: 0.9577 - val_loss: 0.4740 - val_accuracy: 0.7778\n"
          ]
        }
      ]
    },
    {
      "cell_type": "code",
      "metadata": {
        "id": "DFYBYyzaDQX9",
        "colab": {
          "base_uri": "https://localhost:8080/",
          "height": 295
        },
        "outputId": "ed8ceb19-0bd6-4df8-d9d1-5bd251d91fbe"
      },
      "source": [
        "import matplotlib.pyplot as plt\n",
        "plt.plot(history.history['accuracy'])\n",
        "plt.plot(history.history['val_accuracy'])\n",
        "plt.title('Model accuracy')\n",
        "plt.ylabel('Accuracy')\n",
        "plt.xlabel('Epoch')\n",
        "plt.legend(['Train', 'Test'], loc='upper left')\n",
        "plt.show()"
      ],
      "execution_count": null,
      "outputs": [
        {
          "output_type": "display_data",
          "data": {
            "image/png": "[encoded data removed]",
            "text/plain": [
              "<Figure size 432x288 with 1 Axes>"
            ]
          },
          "metadata": {
            "needs_background": "light"
          }
        }
      ]
    },
    {
      "cell_type": "code",
      "metadata": {
        "colab": {
          "base_uri": "https://localhost:8080/"
        },
        "id": "V_LoKCitELOq",
        "outputId": "e19cdcf7-4ba0-4cbb-ad26-90f905eedf42"
      },
      "source": [
        "test_results = model.evaluate(X_test, y_test, verbose = 1)"
      ],
      "execution_count": null,
      "outputs": [
        {
          "output_type": "stream",
          "name": "stdout",
          "text": [
            "1/1 [==============================] - 0s 23ms/step - loss: 0.7776 - accuracy: 0.7391\n"
          ]
        }
      ]
    },
    {
      "cell_type": "code",
      "metadata": {
        "colab": {
          "base_uri": "https://localhost:8080/"
        },
        "id": "_BiWzhyjKJ2L",
        "outputId": "081fdd62-ca6a-4426-ec95-6b52e9fd143e"
      },
      "source": [
        "print(f'Test results - Loss: {test_results[0]} - Accuracy: {test_results[1]}%')"
      ],
      "execution_count": null,
      "outputs": [
        {
          "output_type": "stream",
          "name": "stdout",
          "text": [
            "Test results - Loss: 0.777593195438385 - Accuracy: 0.739130437374115%\n"
          ]
        }
      ]
    }
  ]
}